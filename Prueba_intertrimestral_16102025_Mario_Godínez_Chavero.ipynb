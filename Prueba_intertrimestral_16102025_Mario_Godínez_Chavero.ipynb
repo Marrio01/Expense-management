{
  "nbformat": 4,
  "nbformat_minor": 0,
  "metadata": {
    "colab": {
      "provenance": []
    },
    "kernelspec": {
      "name": "python3",
      "display_name": "Python 3"
    },
    "language_info": {
      "name": "python"
    }
  },
  "cells": [
    {
      "cell_type": "markdown",
      "source": [
        "# Prueba Intertrimestral\n",
        "\n",
        "**Nombre: Mario**  \n",
        "**Apellidos: Godínez Chavero**  \n",
        "\n",
        "**Tiempo de la prueba:** 2 horas  \n",
        "**Asignatura:** Desarrollo de Aplicaciones para la Visualización de Datos  \n",
        "**Fecha:** 16 de octubre de 2025  \n",
        "\n",
        "## Instrucciones\n",
        "\n",
        "- Escribe **código limpio y autoexplicativo**.  \n",
        "- Se pueden utilizar **los materiales de clase**.  \n",
        "- Se puede utilizar **internet** para búsqueda de dudas y documentación.  \n",
        "- **No se puede utilizar ningún tipo de LLM** (ChatGPT, Copilot, Gemini, etc.).  \n",
        "- **No se puede utilizar mensajería instantánea**.  \n",
        "- Al finalizar, **sube tu notebook a GitHub** y envía el enlace del fichero en el siguiente formulario:  \n",
        "[https://forms.office.com/e/LFVwu9z6uQ](https://forms.office.com/e/LFVwu9z6uQ)\n",
        "\n",
        "\n",
        "## Dataset “Life Style Data”\n",
        "\n",
        "El dataset contiene información sobre hábitos de vida (alimentación, sueño, ejercicio, consumo de tabaco o alcohol, etc.) y medidas de salud (IMC, presión arterial, etc.) para diferentes individuos.\n",
        "\n",
        "Puedes descargarlo del repositorio de la asignatura y un .txt con la descripción de las variables.\n"
      ],
      "metadata": {
        "id": "BZHOfP4hO8Vj"
      }
    },
    {
      "cell_type": "markdown",
      "source": [
        "## Inicialización de librerías"
      ],
      "metadata": {
        "id": "pAyOgtngSm8l"
      }
    },
    {
      "cell_type": "code",
      "source": [
        "import pandas as pd\n",
        "import numpy as np\n",
        "import matplotlib.pyplot as plt\n",
        "import seaborn as sns\n",
        "\n",
        "from sklearn.model_selection import train_test_split\n",
        "from sklearn.linear_model import LinearRegression, LogisticRegression\n",
        "from sklearn.ensemble import RandomForestRegressor\n",
        "from sklearn.metrics import mean_squared_error, r2_score, accuracy_score, confusion_matrix\n"
      ],
      "metadata": {
        "id": "rUSOV34cSmDn"
      },
      "execution_count": 2,
      "outputs": []
    },
    {
      "cell_type": "markdown",
      "source": [
        "# Ejercicio 1 — Programación (2 puntos)\n",
        "\n",
        "a) (0.6 pts) Crea una función imc(weight, height) que devuelva el índice de masa corporal (IMC), redondeado a dos decimales.\n",
        "\n"
      ],
      "metadata": {
        "id": "otirxiJrSsEC"
      }
    },
    {
      "cell_type": "code",
      "source": [
        "def masa_corporal(weight, height):\n",
        "    \"\"\"\n",
        "    Fórmula: peso / (altura²)\n",
        "    \"\"\"\n",
        "    return round(weight / (height ** 2), 2)\n",
        "\n",
        "# Ejemplo con mi peso y altura\n",
        "print(masa_corporal(60, 1.80))\n"
      ],
      "metadata": {
        "id": "3N45WKtkS6-A",
        "colab": {
          "base_uri": "https://localhost:8080/"
        },
        "outputId": "0eef6752-3893-4b05-da2d-f68eec0756ec"
      },
      "execution_count": 17,
      "outputs": [
        {
          "output_type": "stream",
          "name": "stdout",
          "text": [
            "18.52\n"
          ]
        }
      ]
    },
    {
      "cell_type": "markdown",
      "source": [
        "b) (0.6 pts) Crea una función saludable(imcValue) que devuelva \"Saludable\" si el IMC está entre 18.5 y 24.9, \"Bajo peso\" si es menor de 18.5, o \"Sobrepeso\" si es mayor de 24.9."
      ],
      "metadata": {
        "id": "BLBDCknMS7TE"
      }
    },
    {
      "cell_type": "code",
      "source": [
        "def saludable(imcValue):\n",
        "    \"\"\"\n",
        "    Bajo peso < 18.5 | Saludable 18.5–24.9 | Sobrepeso > 24.9\n",
        "    \"\"\"\n",
        "    if imcValue < 18.5:\n",
        "        return \"Bajo peso\"\n",
        "    elif imcValue <= 24.9:\n",
        "        return \"Saludable\"\n",
        "    else:\n",
        "        return \"Sobrepeso\"\n",
        "\n",
        "# Ejemplo con saludable\n",
        "print(saludable(18.52))\n"
      ],
      "metadata": {
        "id": "WDhSuYXLS9Fz",
        "colab": {
          "base_uri": "https://localhost:8080/"
        },
        "outputId": "b4ad3ada-7616-4ef8-f2b4-44b7c33ebb14"
      },
      "execution_count": 20,
      "outputs": [
        {
          "output_type": "stream",
          "name": "stdout",
          "text": [
            "Saludable\n"
          ]
        }
      ]
    },
    {
      "cell_type": "markdown",
      "source": [
        "c) (0.6 pts) Genera un DataFrame llamado imcData que contenga al menos 10 registros con las siguientes columnas:\n",
        "\n",
        "\n",
        "*   peso (en kilogramos)\n",
        "\n",
        "*   altura (en metros)\n",
        "\n",
        "*   imc (calculado usando la función imc(weight, height) creada anteriormente)\n",
        "\n",
        "Puedes generar los datos de peso y altura manualmente, mediante listas, o de forma aleatoria utilizando numpy (np.random.uniform o similar).\n",
        "\n",
        "Añade una cuarta columna llamada categoria, cuyos valores provengan de la función saludable(imcValue).\n",
        "\n",
        "Muestra las primeras filas del DataFrame resultante y comprueba que los tipos de datos son correctos."
      ],
      "metadata": {
        "id": "KjQkJdhLS9dO"
      }
    },
    {
      "cell_type": "code",
      "source": [
        "# Datos aleatorios\n",
        "np.random.seed(42)\n",
        "pesos = np.random.uniform(50, 90, 10)\n",
        "alturas = np.random.uniform(1.5, 1.9, 10)\n",
        "\n",
        "# DataFrame\n",
        "imcData = pd.DataFrame({\n",
        "    \"peso\": pesos,\n",
        "    \"altura\": alturas\n",
        "})\n",
        "\n",
        "imcData[\"imc\"] = imcData.apply(lambda row: masa_corporal(row[\"peso\"], row[\"altura\"]), axis=1)\n",
        "imcData[\"categoria\"] = imcData[\"imc\"].apply(saludable)\n",
        "\n",
        "print(imcData.head())\n",
        "print(\"\\nTipos de datos:\\n\", imcData.dtypes)\n"
      ],
      "metadata": {
        "id": "sN09MzT_TGWv",
        "colab": {
          "base_uri": "https://localhost:8080/"
        },
        "outputId": "9faf0e07-bf27-4df7-bceb-930ad3f58118"
      },
      "execution_count": 16,
      "outputs": [
        {
          "output_type": "stream",
          "name": "stdout",
          "text": [
            "        peso    altura    imc  categoria\n",
            "0  64.981605  1.508234  28.57  Sobrepeso\n",
            "1  88.028572  1.887964  24.70  Saludable\n",
            "2  79.279758  1.832977  23.60  Saludable\n",
            "3  73.946339  1.584936  29.44  Sobrepeso\n",
            "4  56.240746  1.572730  22.74  Saludable\n",
            "\n",
            "Tipos de datos:\n",
            " peso         float64\n",
            "altura       float64\n",
            "imc          float64\n",
            "categoria     object\n",
            "dtype: object\n"
          ]
        }
      ]
    },
    {
      "cell_type": "markdown",
      "source": [
        "d) (0.2 pts) ¿Cómo podrías integrar ambas funciones dentro de una clase llamada HealthTools que calcule el IMC y clasifique automáticamente a partir de listas de pesos y alturas?"
      ],
      "metadata": {
        "id": "uqaLQ7v3TGqI"
      }
    },
    {
      "cell_type": "code",
      "source": [
        "class HealthTools:\n",
        "    def __init__(self, weights, heights):\n",
        "        self.weights = weights\n",
        "        self.heights = heights\n",
        "        self.data = pd.DataFrame({\"peso\": weights, \"altura\": heights})\n",
        "\n",
        "    def imc(self, w, h):\n",
        "        return round(w / (h ** 2), 2)\n",
        "\n",
        "    def saludable(self, imcValue):\n",
        "        if imcValue < 18.5:\n",
        "            return \"Bajo peso\"\n",
        "        elif imcValue <= 24.9:\n",
        "            return \"Saludable\"\n",
        "        else:\n",
        "            return \"Sobrepeso\"\n",
        "\n",
        "    def calcular(self):\n",
        "        self.data[\"imc\"] = self.data.apply(lambda r: self.imc(r[\"peso\"], r[\"altura\"]), axis=1)\n",
        "        self.data[\"categoria\"] = self.data[\"imc\"].apply(self.saludable)\n",
        "        return self.data\n",
        "\n",
        "# Ejemplo\n",
        "ht = HealthTools(pesos, alturas)\n",
        "print(ht.calcular())\n"
      ],
      "metadata": {
        "id": "ac1ReJOvTuS9",
        "colab": {
          "base_uri": "https://localhost:8080/"
        },
        "outputId": "9d7a2e68-401b-4dad-af25-f887785ab064"
      },
      "execution_count": 5,
      "outputs": [
        {
          "output_type": "stream",
          "name": "stdout",
          "text": [
            "        peso    altura    imc  categoria\n",
            "0  64.981605  1.508234  28.57  Sobrepeso\n",
            "1  88.028572  1.887964  24.70  Saludable\n",
            "2  79.279758  1.832977  23.60  Saludable\n",
            "3  73.946339  1.584936  29.44  Sobrepeso\n",
            "4  56.240746  1.572730  22.74  Saludable\n",
            "5  56.239781  1.573362  22.72  Saludable\n",
            "6  52.323344  1.621697  19.90  Saludable\n",
            "7  84.647046  1.709903  28.95  Sobrepeso\n",
            "8  74.044600  1.672778  26.46  Sobrepeso\n",
            "9  78.322903  1.616492  29.97  Sobrepeso\n"
          ]
        }
      ]
    },
    {
      "cell_type": "markdown",
      "source": [
        "## Ejercicio 2 — Exploración y visualización (3 puntos)\n",
        "\n",
        "a) (0.75 pts) Carga el dataset desde el fichero CSV y guárdalo en un DataFrame llamado lifeStyleData. Muestra las 5 primeras filas, el número de filas y columnas."
      ],
      "metadata": {
        "id": "_KNWF6NGTxLR"
      }
    },
    {
      "cell_type": "code",
      "source": [
        "lifeStyleData = pd.read_csv(\"Final_data.csv\")\n",
        "print(lifeStyleData.head())\n",
        "print(\"Filas y columnas:\", lifeStyleData.shape)\n",
        "\n"
      ],
      "metadata": {
        "id": "l907uB6pT4qS",
        "colab": {
          "base_uri": "https://localhost:8080/"
        },
        "outputId": "9ac1c887-5c18-4029-8dd2-fc0cb628a1e1"
      },
      "execution_count": 21,
      "outputs": [
        {
          "output_type": "stream",
          "name": "stdout",
          "text": [
            "     Age  Gender  Weight (kg)  Height (m)  Max_BPM  Avg_BPM  Resting_BPM  \\\n",
            "0  34.91    Male        65.27        1.62   188.58   157.65        69.05   \n",
            "1  23.37  Female        56.41        1.55   179.43   131.75        73.18   \n",
            "2  33.20  Female        58.98        1.67   175.04   123.95        54.96   \n",
            "3  38.69  Female        93.78        1.70   191.21   155.10        50.07   \n",
            "4  45.09    Male        52.42        1.88   193.58   152.88        70.84   \n",
            "\n",
            "   Session_Duration (hours)  Calories_Burned Workout_Type  ...  \\\n",
            "0                      1.00          1080.90     Strength  ...   \n",
            "1                      1.37          1809.91         HIIT  ...   \n",
            "2                      0.91           802.26       Cardio  ...   \n",
            "3                      1.10          1450.79         HIIT  ...   \n",
            "4                      1.08          1166.40     Strength  ...   \n",
            "\n",
            "   cal_from_macros  pct_carbs  protein_per_kg   pct_HRR  pct_maxHR  \\\n",
            "0          2139.59   0.500432        1.624789  0.741237   0.835985   \n",
            "1          1711.65   0.500850        1.514093  0.551247   0.734270   \n",
            "2          1965.92   0.500610        1.663445  0.574534   0.708124   \n",
            "3          1627.28   0.499533        0.862017  0.744155   0.811150   \n",
            "4          2659.23   0.500581        2.538153  0.668405   0.789751   \n",
            "\n",
            "   cal_balance  lean_mass_kg  expected_burn  Burns Calories (per 30 min)_bc  \\\n",
            "0       725.10     47.777394       685.1600                    7.260425e+19   \n",
            "1      -232.91     40.809803       978.6184                    1.020506e+20   \n",
            "2       805.74     44.635580       654.5266                    1.079607e+20   \n",
            "3      1206.21     63.007432       773.6300                    8.987921e+19   \n",
            "4       303.60     43.347504       711.4176                    5.264685e+19   \n",
            "\n",
            "   Burns_Calories_Bin  \n",
            "0              Medium  \n",
            "1                High  \n",
            "2                High  \n",
            "3                High  \n",
            "4                 Low  \n",
            "\n",
            "[5 rows x 54 columns]\n",
            "Filas y columnas: (20000, 54)\n"
          ]
        }
      ]
    },
    {
      "cell_type": "markdown",
      "source": [
        "b) (0.75 pts) Crea una función describeData(dataFrame) que devuelva para cada columna: tipo de dato, número de valores nulos y porcentaje de nulos."
      ],
      "metadata": {
        "id": "JlpQNR-CT49v"
      }
    },
    {
      "cell_type": "code",
      "source": [
        "def describeData(df):\n",
        "    resultado = pd.DataFrame({\n",
        "        \"Tipo de dato\": df.dtypes,\n",
        "        \"Valores nulos\": df.isna().sum(),\n",
        "        \"% Nulos\": round(df.isna().sum() / len(df) * 100, 2)\n",
        "    })\n",
        "    return resultado\n",
        "\n"
      ],
      "metadata": {
        "id": "oXcuxp6mT8iA"
      },
      "execution_count": 34,
      "outputs": []
    },
    {
      "cell_type": "markdown",
      "source": [
        "c) (0.75 pts) Usa describeData(lifeStyleData) y comenta brevemente (2–3 líneas) qué variables parecen tener más valores faltantes."
      ],
      "metadata": {
        "id": "mHjSdK4oT7Yp"
      }
    },
    {
      "cell_type": "code",
      "source": [
        "describeData(lifeStyleData)\n"
      ],
      "metadata": {
        "id": "bgMOXwrbT-Du",
        "colab": {
          "base_uri": "https://localhost:8080/",
          "height": 1000
        },
        "outputId": "4680a9c2-29b8-45ec-95d7-767661274b40"
      },
      "execution_count": 35,
      "outputs": [
        {
          "output_type": "execute_result",
          "data": {
            "text/plain": [
              "                               Tipo de dato  Valores nulos  % Nulos\n",
              "Age                                 float64              0      0.0\n",
              "Gender                               object              0      0.0\n",
              "Weight (kg)                         float64              0      0.0\n",
              "Height (m)                          float64              0      0.0\n",
              "Max_BPM                             float64              1      0.0\n",
              "Avg_BPM                             float64              1      0.0\n",
              "Resting_BPM                         float64              0      0.0\n",
              "Session_Duration (hours)            float64              0      0.0\n",
              "Calories_Burned                     float64              0      0.0\n",
              "Workout_Type                         object              0      0.0\n",
              "Fat_Percentage                      float64              0      0.0\n",
              "Water_Intake (liters)               float64              0      0.0\n",
              "Workout_Frequency (days/week)       float64              0      0.0\n",
              "Experience_Level                    float64              0      0.0\n",
              "BMI                                 float64              0      0.0\n",
              "Daily meals frequency               float64              0      0.0\n",
              "Physical exercise                   float64              0      0.0\n",
              "Carbs                               float64              0      0.0\n",
              "Proteins                            float64              0      0.0\n",
              "Fats                                float64              0      0.0\n",
              "Calories                            float64              0      0.0\n",
              "meal_name                            object              0      0.0\n",
              "meal_type                            object              0      0.0\n",
              "diet_type                            object              0      0.0\n",
              "sugar_g                             float64              0      0.0\n",
              "sodium_mg                           float64              0      0.0\n",
              "cholesterol_mg                      float64              1      0.0\n",
              "serving_size_g                      float64              0      0.0\n",
              "cooking_method                       object              0      0.0\n",
              "prep_time_min                       float64              0      0.0\n",
              "cook_time_min                       float64              0      0.0\n",
              "rating                              float64              0      0.0\n",
              "Name of Exercise                     object              0      0.0\n",
              "Sets                                float64              0      0.0\n",
              "Reps                                float64              0      0.0\n",
              "Benefit                              object              0      0.0\n",
              "Burns Calories (per 30 min)         float64              0      0.0\n",
              "Target Muscle Group                  object              0      0.0\n",
              "Equipment Needed                     object              0      0.0\n",
              "Difficulty Level                     object              0      0.0\n",
              "Body Part                            object              0      0.0\n",
              "Type of Muscle                       object              0      0.0\n",
              "Workout                              object              0      0.0\n",
              "BMI_calc                            float64              0      0.0\n",
              "cal_from_macros                     float64              0      0.0\n",
              "pct_carbs                           float64              0      0.0\n",
              "protein_per_kg                      float64              0      0.0\n",
              "pct_HRR                             float64              0      0.0\n",
              "pct_maxHR                           float64              0      0.0\n",
              "cal_balance                         float64              0      0.0\n",
              "lean_mass_kg                        float64              0      0.0\n",
              "expected_burn                       float64              0      0.0\n",
              "Burns Calories (per 30 min)_bc      float64              0      0.0\n",
              "Burns_Calories_Bin                   object              0      0.0"
            ],
            "text/html": [
              "\n",
              "  <div id=\"df-e5b4e981-5397-482a-a7ff-7410f2542e63\" class=\"colab-df-container\">\n",
              "    <div>\n",
              "<style scoped>\n",
              "    .dataframe tbody tr th:only-of-type {\n",
              "        vertical-align: middle;\n",
              "    }\n",
              "\n",
              "    .dataframe tbody tr th {\n",
              "        vertical-align: top;\n",
              "    }\n",
              "\n",
              "    .dataframe thead th {\n",
              "        text-align: right;\n",
              "    }\n",
              "</style>\n",
              "<table border=\"1\" class=\"dataframe\">\n",
              "  <thead>\n",
              "    <tr style=\"text-align: right;\">\n",
              "      <th></th>\n",
              "      <th>Tipo de dato</th>\n",
              "      <th>Valores nulos</th>\n",
              "      <th>% Nulos</th>\n",
              "    </tr>\n",
              "  </thead>\n",
              "  <tbody>\n",
              "    <tr>\n",
              "      <th>Age</th>\n",
              "      <td>float64</td>\n",
              "      <td>0</td>\n",
              "      <td>0.0</td>\n",
              "    </tr>\n",
              "    <tr>\n",
              "      <th>Gender</th>\n",
              "      <td>object</td>\n",
              "      <td>0</td>\n",
              "      <td>0.0</td>\n",
              "    </tr>\n",
              "    <tr>\n",
              "      <th>Weight (kg)</th>\n",
              "      <td>float64</td>\n",
              "      <td>0</td>\n",
              "      <td>0.0</td>\n",
              "    </tr>\n",
              "    <tr>\n",
              "      <th>Height (m)</th>\n",
              "      <td>float64</td>\n",
              "      <td>0</td>\n",
              "      <td>0.0</td>\n",
              "    </tr>\n",
              "    <tr>\n",
              "      <th>Max_BPM</th>\n",
              "      <td>float64</td>\n",
              "      <td>1</td>\n",
              "      <td>0.0</td>\n",
              "    </tr>\n",
              "    <tr>\n",
              "      <th>Avg_BPM</th>\n",
              "      <td>float64</td>\n",
              "      <td>1</td>\n",
              "      <td>0.0</td>\n",
              "    </tr>\n",
              "    <tr>\n",
              "      <th>Resting_BPM</th>\n",
              "      <td>float64</td>\n",
              "      <td>0</td>\n",
              "      <td>0.0</td>\n",
              "    </tr>\n",
              "    <tr>\n",
              "      <th>Session_Duration (hours)</th>\n",
              "      <td>float64</td>\n",
              "      <td>0</td>\n",
              "      <td>0.0</td>\n",
              "    </tr>\n",
              "    <tr>\n",
              "      <th>Calories_Burned</th>\n",
              "      <td>float64</td>\n",
              "      <td>0</td>\n",
              "      <td>0.0</td>\n",
              "    </tr>\n",
              "    <tr>\n",
              "      <th>Workout_Type</th>\n",
              "      <td>object</td>\n",
              "      <td>0</td>\n",
              "      <td>0.0</td>\n",
              "    </tr>\n",
              "    <tr>\n",
              "      <th>Fat_Percentage</th>\n",
              "      <td>float64</td>\n",
              "      <td>0</td>\n",
              "      <td>0.0</td>\n",
              "    </tr>\n",
              "    <tr>\n",
              "      <th>Water_Intake (liters)</th>\n",
              "      <td>float64</td>\n",
              "      <td>0</td>\n",
              "      <td>0.0</td>\n",
              "    </tr>\n",
              "    <tr>\n",
              "      <th>Workout_Frequency (days/week)</th>\n",
              "      <td>float64</td>\n",
              "      <td>0</td>\n",
              "      <td>0.0</td>\n",
              "    </tr>\n",
              "    <tr>\n",
              "      <th>Experience_Level</th>\n",
              "      <td>float64</td>\n",
              "      <td>0</td>\n",
              "      <td>0.0</td>\n",
              "    </tr>\n",
              "    <tr>\n",
              "      <th>BMI</th>\n",
              "      <td>float64</td>\n",
              "      <td>0</td>\n",
              "      <td>0.0</td>\n",
              "    </tr>\n",
              "    <tr>\n",
              "      <th>Daily meals frequency</th>\n",
              "      <td>float64</td>\n",
              "      <td>0</td>\n",
              "      <td>0.0</td>\n",
              "    </tr>\n",
              "    <tr>\n",
              "      <th>Physical exercise</th>\n",
              "      <td>float64</td>\n",
              "      <td>0</td>\n",
              "      <td>0.0</td>\n",
              "    </tr>\n",
              "    <tr>\n",
              "      <th>Carbs</th>\n",
              "      <td>float64</td>\n",
              "      <td>0</td>\n",
              "      <td>0.0</td>\n",
              "    </tr>\n",
              "    <tr>\n",
              "      <th>Proteins</th>\n",
              "      <td>float64</td>\n",
              "      <td>0</td>\n",
              "      <td>0.0</td>\n",
              "    </tr>\n",
              "    <tr>\n",
              "      <th>Fats</th>\n",
              "      <td>float64</td>\n",
              "      <td>0</td>\n",
              "      <td>0.0</td>\n",
              "    </tr>\n",
              "    <tr>\n",
              "      <th>Calories</th>\n",
              "      <td>float64</td>\n",
              "      <td>0</td>\n",
              "      <td>0.0</td>\n",
              "    </tr>\n",
              "    <tr>\n",
              "      <th>meal_name</th>\n",
              "      <td>object</td>\n",
              "      <td>0</td>\n",
              "      <td>0.0</td>\n",
              "    </tr>\n",
              "    <tr>\n",
              "      <th>meal_type</th>\n",
              "      <td>object</td>\n",
              "      <td>0</td>\n",
              "      <td>0.0</td>\n",
              "    </tr>\n",
              "    <tr>\n",
              "      <th>diet_type</th>\n",
              "      <td>object</td>\n",
              "      <td>0</td>\n",
              "      <td>0.0</td>\n",
              "    </tr>\n",
              "    <tr>\n",
              "      <th>sugar_g</th>\n",
              "      <td>float64</td>\n",
              "      <td>0</td>\n",
              "      <td>0.0</td>\n",
              "    </tr>\n",
              "    <tr>\n",
              "      <th>sodium_mg</th>\n",
              "      <td>float64</td>\n",
              "      <td>0</td>\n",
              "      <td>0.0</td>\n",
              "    </tr>\n",
              "    <tr>\n",
              "      <th>cholesterol_mg</th>\n",
              "      <td>float64</td>\n",
              "      <td>1</td>\n",
              "      <td>0.0</td>\n",
              "    </tr>\n",
              "    <tr>\n",
              "      <th>serving_size_g</th>\n",
              "      <td>float64</td>\n",
              "      <td>0</td>\n",
              "      <td>0.0</td>\n",
              "    </tr>\n",
              "    <tr>\n",
              "      <th>cooking_method</th>\n",
              "      <td>object</td>\n",
              "      <td>0</td>\n",
              "      <td>0.0</td>\n",
              "    </tr>\n",
              "    <tr>\n",
              "      <th>prep_time_min</th>\n",
              "      <td>float64</td>\n",
              "      <td>0</td>\n",
              "      <td>0.0</td>\n",
              "    </tr>\n",
              "    <tr>\n",
              "      <th>cook_time_min</th>\n",
              "      <td>float64</td>\n",
              "      <td>0</td>\n",
              "      <td>0.0</td>\n",
              "    </tr>\n",
              "    <tr>\n",
              "      <th>rating</th>\n",
              "      <td>float64</td>\n",
              "      <td>0</td>\n",
              "      <td>0.0</td>\n",
              "    </tr>\n",
              "    <tr>\n",
              "      <th>Name of Exercise</th>\n",
              "      <td>object</td>\n",
              "      <td>0</td>\n",
              "      <td>0.0</td>\n",
              "    </tr>\n",
              "    <tr>\n",
              "      <th>Sets</th>\n",
              "      <td>float64</td>\n",
              "      <td>0</td>\n",
              "      <td>0.0</td>\n",
              "    </tr>\n",
              "    <tr>\n",
              "      <th>Reps</th>\n",
              "      <td>float64</td>\n",
              "      <td>0</td>\n",
              "      <td>0.0</td>\n",
              "    </tr>\n",
              "    <tr>\n",
              "      <th>Benefit</th>\n",
              "      <td>object</td>\n",
              "      <td>0</td>\n",
              "      <td>0.0</td>\n",
              "    </tr>\n",
              "    <tr>\n",
              "      <th>Burns Calories (per 30 min)</th>\n",
              "      <td>float64</td>\n",
              "      <td>0</td>\n",
              "      <td>0.0</td>\n",
              "    </tr>\n",
              "    <tr>\n",
              "      <th>Target Muscle Group</th>\n",
              "      <td>object</td>\n",
              "      <td>0</td>\n",
              "      <td>0.0</td>\n",
              "    </tr>\n",
              "    <tr>\n",
              "      <th>Equipment Needed</th>\n",
              "      <td>object</td>\n",
              "      <td>0</td>\n",
              "      <td>0.0</td>\n",
              "    </tr>\n",
              "    <tr>\n",
              "      <th>Difficulty Level</th>\n",
              "      <td>object</td>\n",
              "      <td>0</td>\n",
              "      <td>0.0</td>\n",
              "    </tr>\n",
              "    <tr>\n",
              "      <th>Body Part</th>\n",
              "      <td>object</td>\n",
              "      <td>0</td>\n",
              "      <td>0.0</td>\n",
              "    </tr>\n",
              "    <tr>\n",
              "      <th>Type of Muscle</th>\n",
              "      <td>object</td>\n",
              "      <td>0</td>\n",
              "      <td>0.0</td>\n",
              "    </tr>\n",
              "    <tr>\n",
              "      <th>Workout</th>\n",
              "      <td>object</td>\n",
              "      <td>0</td>\n",
              "      <td>0.0</td>\n",
              "    </tr>\n",
              "    <tr>\n",
              "      <th>BMI_calc</th>\n",
              "      <td>float64</td>\n",
              "      <td>0</td>\n",
              "      <td>0.0</td>\n",
              "    </tr>\n",
              "    <tr>\n",
              "      <th>cal_from_macros</th>\n",
              "      <td>float64</td>\n",
              "      <td>0</td>\n",
              "      <td>0.0</td>\n",
              "    </tr>\n",
              "    <tr>\n",
              "      <th>pct_carbs</th>\n",
              "      <td>float64</td>\n",
              "      <td>0</td>\n",
              "      <td>0.0</td>\n",
              "    </tr>\n",
              "    <tr>\n",
              "      <th>protein_per_kg</th>\n",
              "      <td>float64</td>\n",
              "      <td>0</td>\n",
              "      <td>0.0</td>\n",
              "    </tr>\n",
              "    <tr>\n",
              "      <th>pct_HRR</th>\n",
              "      <td>float64</td>\n",
              "      <td>0</td>\n",
              "      <td>0.0</td>\n",
              "    </tr>\n",
              "    <tr>\n",
              "      <th>pct_maxHR</th>\n",
              "      <td>float64</td>\n",
              "      <td>0</td>\n",
              "      <td>0.0</td>\n",
              "    </tr>\n",
              "    <tr>\n",
              "      <th>cal_balance</th>\n",
              "      <td>float64</td>\n",
              "      <td>0</td>\n",
              "      <td>0.0</td>\n",
              "    </tr>\n",
              "    <tr>\n",
              "      <th>lean_mass_kg</th>\n",
              "      <td>float64</td>\n",
              "      <td>0</td>\n",
              "      <td>0.0</td>\n",
              "    </tr>\n",
              "    <tr>\n",
              "      <th>expected_burn</th>\n",
              "      <td>float64</td>\n",
              "      <td>0</td>\n",
              "      <td>0.0</td>\n",
              "    </tr>\n",
              "    <tr>\n",
              "      <th>Burns Calories (per 30 min)_bc</th>\n",
              "      <td>float64</td>\n",
              "      <td>0</td>\n",
              "      <td>0.0</td>\n",
              "    </tr>\n",
              "    <tr>\n",
              "      <th>Burns_Calories_Bin</th>\n",
              "      <td>object</td>\n",
              "      <td>0</td>\n",
              "      <td>0.0</td>\n",
              "    </tr>\n",
              "  </tbody>\n",
              "</table>\n",
              "</div>\n",
              "    <div class=\"colab-df-buttons\">\n",
              "\n",
              "  <div class=\"colab-df-container\">\n",
              "    <button class=\"colab-df-convert\" onclick=\"convertToInteractive('df-e5b4e981-5397-482a-a7ff-7410f2542e63')\"\n",
              "            title=\"Convert this dataframe to an interactive table.\"\n",
              "            style=\"display:none;\">\n",
              "\n",
              "  <svg xmlns=\"http://www.w3.org/2000/svg\" height=\"24px\" viewBox=\"0 -960 960 960\">\n",
              "    <path d=\"M120-120v-720h720v720H120Zm60-500h600v-160H180v160Zm220 220h160v-160H400v160Zm0 220h160v-160H400v160ZM180-400h160v-160H180v160Zm440 0h160v-160H620v160ZM180-180h160v-160H180v160Zm440 0h160v-160H620v160Z\"/>\n",
              "  </svg>\n",
              "    </button>\n",
              "\n",
              "  <style>\n",
              "    .colab-df-container {\n",
              "      display:flex;\n",
              "      gap: 12px;\n",
              "    }\n",
              "\n",
              "    .colab-df-convert {\n",
              "      background-color: #E8F0FE;\n",
              "      border: none;\n",
              "      border-radius: 50%;\n",
              "      cursor: pointer;\n",
              "      display: none;\n",
              "      fill: #1967D2;\n",
              "      height: 32px;\n",
              "      padding: 0 0 0 0;\n",
              "      width: 32px;\n",
              "    }\n",
              "\n",
              "    .colab-df-convert:hover {\n",
              "      background-color: #E2EBFA;\n",
              "      box-shadow: 0px 1px 2px rgba(60, 64, 67, 0.3), 0px 1px 3px 1px rgba(60, 64, 67, 0.15);\n",
              "      fill: #174EA6;\n",
              "    }\n",
              "\n",
              "    .colab-df-buttons div {\n",
              "      margin-bottom: 4px;\n",
              "    }\n",
              "\n",
              "    [theme=dark] .colab-df-convert {\n",
              "      background-color: #3B4455;\n",
              "      fill: #D2E3FC;\n",
              "    }\n",
              "\n",
              "    [theme=dark] .colab-df-convert:hover {\n",
              "      background-color: #434B5C;\n",
              "      box-shadow: 0px 1px 3px 1px rgba(0, 0, 0, 0.15);\n",
              "      filter: drop-shadow(0px 1px 2px rgba(0, 0, 0, 0.3));\n",
              "      fill: #FFFFFF;\n",
              "    }\n",
              "  </style>\n",
              "\n",
              "    <script>\n",
              "      const buttonEl =\n",
              "        document.querySelector('#df-e5b4e981-5397-482a-a7ff-7410f2542e63 button.colab-df-convert');\n",
              "      buttonEl.style.display =\n",
              "        google.colab.kernel.accessAllowed ? 'block' : 'none';\n",
              "\n",
              "      async function convertToInteractive(key) {\n",
              "        const element = document.querySelector('#df-e5b4e981-5397-482a-a7ff-7410f2542e63');\n",
              "        const dataTable =\n",
              "          await google.colab.kernel.invokeFunction('convertToInteractive',\n",
              "                                                    [key], {});\n",
              "        if (!dataTable) return;\n",
              "\n",
              "        const docLinkHtml = 'Like what you see? Visit the ' +\n",
              "          '<a target=\"_blank\" href=https://colab.research.google.com/notebooks/data_table.ipynb>data table notebook</a>'\n",
              "          + ' to learn more about interactive tables.';\n",
              "        element.innerHTML = '';\n",
              "        dataTable['output_type'] = 'display_data';\n",
              "        await google.colab.output.renderOutput(dataTable, element);\n",
              "        const docLink = document.createElement('div');\n",
              "        docLink.innerHTML = docLinkHtml;\n",
              "        element.appendChild(docLink);\n",
              "      }\n",
              "    </script>\n",
              "  </div>\n",
              "\n",
              "\n",
              "    <div id=\"df-08ad13b6-a2db-4e82-a142-ba493aecf88b\">\n",
              "      <button class=\"colab-df-quickchart\" onclick=\"quickchart('df-08ad13b6-a2db-4e82-a142-ba493aecf88b')\"\n",
              "                title=\"Suggest charts\"\n",
              "                style=\"display:none;\">\n",
              "\n",
              "<svg xmlns=\"http://www.w3.org/2000/svg\" height=\"24px\"viewBox=\"0 0 24 24\"\n",
              "     width=\"24px\">\n",
              "    <g>\n",
              "        <path d=\"M19 3H5c-1.1 0-2 .9-2 2v14c0 1.1.9 2 2 2h14c1.1 0 2-.9 2-2V5c0-1.1-.9-2-2-2zM9 17H7v-7h2v7zm4 0h-2V7h2v10zm4 0h-2v-4h2v4z\"/>\n",
              "    </g>\n",
              "</svg>\n",
              "      </button>\n",
              "\n",
              "<style>\n",
              "  .colab-df-quickchart {\n",
              "      --bg-color: #E8F0FE;\n",
              "      --fill-color: #1967D2;\n",
              "      --hover-bg-color: #E2EBFA;\n",
              "      --hover-fill-color: #174EA6;\n",
              "      --disabled-fill-color: #AAA;\n",
              "      --disabled-bg-color: #DDD;\n",
              "  }\n",
              "\n",
              "  [theme=dark] .colab-df-quickchart {\n",
              "      --bg-color: #3B4455;\n",
              "      --fill-color: #D2E3FC;\n",
              "      --hover-bg-color: #434B5C;\n",
              "      --hover-fill-color: #FFFFFF;\n",
              "      --disabled-bg-color: #3B4455;\n",
              "      --disabled-fill-color: #666;\n",
              "  }\n",
              "\n",
              "  .colab-df-quickchart {\n",
              "    background-color: var(--bg-color);\n",
              "    border: none;\n",
              "    border-radius: 50%;\n",
              "    cursor: pointer;\n",
              "    display: none;\n",
              "    fill: var(--fill-color);\n",
              "    height: 32px;\n",
              "    padding: 0;\n",
              "    width: 32px;\n",
              "  }\n",
              "\n",
              "  .colab-df-quickchart:hover {\n",
              "    background-color: var(--hover-bg-color);\n",
              "    box-shadow: 0 1px 2px rgba(60, 64, 67, 0.3), 0 1px 3px 1px rgba(60, 64, 67, 0.15);\n",
              "    fill: var(--button-hover-fill-color);\n",
              "  }\n",
              "\n",
              "  .colab-df-quickchart-complete:disabled,\n",
              "  .colab-df-quickchart-complete:disabled:hover {\n",
              "    background-color: var(--disabled-bg-color);\n",
              "    fill: var(--disabled-fill-color);\n",
              "    box-shadow: none;\n",
              "  }\n",
              "\n",
              "  .colab-df-spinner {\n",
              "    border: 2px solid var(--fill-color);\n",
              "    border-color: transparent;\n",
              "    border-bottom-color: var(--fill-color);\n",
              "    animation:\n",
              "      spin 1s steps(1) infinite;\n",
              "  }\n",
              "\n",
              "  @keyframes spin {\n",
              "    0% {\n",
              "      border-color: transparent;\n",
              "      border-bottom-color: var(--fill-color);\n",
              "      border-left-color: var(--fill-color);\n",
              "    }\n",
              "    20% {\n",
              "      border-color: transparent;\n",
              "      border-left-color: var(--fill-color);\n",
              "      border-top-color: var(--fill-color);\n",
              "    }\n",
              "    30% {\n",
              "      border-color: transparent;\n",
              "      border-left-color: var(--fill-color);\n",
              "      border-top-color: var(--fill-color);\n",
              "      border-right-color: var(--fill-color);\n",
              "    }\n",
              "    40% {\n",
              "      border-color: transparent;\n",
              "      border-right-color: var(--fill-color);\n",
              "      border-top-color: var(--fill-color);\n",
              "    }\n",
              "    60% {\n",
              "      border-color: transparent;\n",
              "      border-right-color: var(--fill-color);\n",
              "    }\n",
              "    80% {\n",
              "      border-color: transparent;\n",
              "      border-right-color: var(--fill-color);\n",
              "      border-bottom-color: var(--fill-color);\n",
              "    }\n",
              "    90% {\n",
              "      border-color: transparent;\n",
              "      border-bottom-color: var(--fill-color);\n",
              "    }\n",
              "  }\n",
              "</style>\n",
              "\n",
              "      <script>\n",
              "        async function quickchart(key) {\n",
              "          const quickchartButtonEl =\n",
              "            document.querySelector('#' + key + ' button');\n",
              "          quickchartButtonEl.disabled = true;  // To prevent multiple clicks.\n",
              "          quickchartButtonEl.classList.add('colab-df-spinner');\n",
              "          try {\n",
              "            const charts = await google.colab.kernel.invokeFunction(\n",
              "                'suggestCharts', [key], {});\n",
              "          } catch (error) {\n",
              "            console.error('Error during call to suggestCharts:', error);\n",
              "          }\n",
              "          quickchartButtonEl.classList.remove('colab-df-spinner');\n",
              "          quickchartButtonEl.classList.add('colab-df-quickchart-complete');\n",
              "        }\n",
              "        (() => {\n",
              "          let quickchartButtonEl =\n",
              "            document.querySelector('#df-08ad13b6-a2db-4e82-a142-ba493aecf88b button');\n",
              "          quickchartButtonEl.style.display =\n",
              "            google.colab.kernel.accessAllowed ? 'block' : 'none';\n",
              "        })();\n",
              "      </script>\n",
              "    </div>\n",
              "\n",
              "    </div>\n",
              "  </div>\n"
            ],
            "application/vnd.google.colaboratory.intrinsic+json": {
              "type": "dataframe",
              "summary": "{\n  \"name\": \"describeData(lifeStyleData)\",\n  \"rows\": 54,\n  \"fields\": [\n    {\n      \"column\": \"Tipo de dato\",\n      \"properties\": {\n        \"dtype\": \"category\",\n        \"num_unique_values\": 2,\n        \"samples\": [\n          \"object\",\n          \"float64\"\n        ],\n        \"semantic_type\": \"\",\n        \"description\": \"\"\n      }\n    },\n    {\n      \"column\": \"Valores nulos\",\n      \"properties\": {\n        \"dtype\": \"number\",\n        \"std\": 0,\n        \"min\": 0,\n        \"max\": 1,\n        \"num_unique_values\": 2,\n        \"samples\": [\n          1,\n          0\n        ],\n        \"semantic_type\": \"\",\n        \"description\": \"\"\n      }\n    },\n    {\n      \"column\": \"% Nulos\",\n      \"properties\": {\n        \"dtype\": \"number\",\n        \"std\": 0.0,\n        \"min\": 0.0,\n        \"max\": 0.0,\n        \"num_unique_values\": 1,\n        \"samples\": [\n          0.0\n        ],\n        \"semantic_type\": \"\",\n        \"description\": \"\"\n      }\n    }\n  ]\n}"
            }
          },
          "metadata": {},
          "execution_count": 35
        }
      ]
    },
    {
      "cell_type": "markdown",
      "source": [
        "Las variables maxBPM, avrBPN y colesterol_mg son las únicas variables que tienen valores nulos.\n",
        "Esto puede deberse a omisiones en encuestas o registros.Pudiendose suponer el valor con algún promedio con el que haya relación entre las variables"
      ],
      "metadata": {
        "id": "oz8V1ecsrxCh"
      }
    },
    {
      "cell_type": "markdown",
      "source": [
        "d) (0.75 pts) Realiza un gráfico que muestre las correlaciones entre variables numéricas. ¿Hay alguna correlación fuerte o inesperada?"
      ],
      "metadata": {
        "id": "qlYW9h-qT-VT"
      }
    },
    {
      "cell_type": "code",
      "source": [
        "plt.figure(figsize=(10,8))\n",
        "#sns.heatmap(lifeStyleData.corr(numeric_only=True), cmap=\"coolwarm\", annot=True)\n",
        "sns.heatmap(lifeStyleData.corr(numeric_only=True), cmap=\"coolwarm\")\n",
        "plt.title(\"Matriz de correlación entre las variables numéricas\")\n",
        "plt.show()\n"
      ],
      "metadata": {
        "id": "buQgpNSrUCS3",
        "colab": {
          "base_uri": "https://localhost:8080/",
          "height": 910
        },
        "outputId": "574ab39c-b590-4603-8359-d547a7cf4d47"
      },
      "execution_count": 58,
      "outputs": [
        {
          "output_type": "display_data",
          "data": {
            "text/plain": [
              "<Figure size 1000x800 with 2 Axes>"
            ],
            "image/png": "[encoded data removed]"
          },
          "metadata": {}
        }
      ]
    },
    {
      "cell_type": "markdown",
      "source": [
        "## Ejercicio 3 — Regresión básica (2 puntos)\n",
        "\n",
        "Queremos predecir una variable de salud continua, por ejemplo bmi.\n",
        "\n",
        "a) (0.25 pts) Define targetVar = \"bmi\" y selecciona 2–3 variables predictoras (por ejemplo sleepHours, activityLevel, calories). Guarda las columnas predictoras en X y la variable objetivo en y."
      ],
      "metadata": {
        "id": "xfw0EHuoUCk_"
      }
    },
    {
      "cell_type": "code",
      "source": [
        "targetVar = \"BMI\"\n",
        "\n",
        "X = lifeStyleData[[\"Age\", \"Fat_Percentage\", \"lean_mass_kg\"]]\n",
        "y = lifeStyleData[targetVar]\n",
        "\n",
        "\n"
      ],
      "metadata": {
        "id": "3lGCNguAUGZe"
      },
      "execution_count": 70,
      "outputs": []
    },
    {
      "cell_type": "markdown",
      "source": [
        "b) (0.25 pts) Divide los datos en entrenamiento (70 %) y prueba (30 %)."
      ],
      "metadata": {
        "id": "8TpJdONMUGuE"
      }
    },
    {
      "cell_type": "code",
      "source": [
        "X_train, X_test, y_train, y_test = train_test_split(X, y, test_size=0.3, random_state=123)\n"
      ],
      "metadata": {
        "id": "d7q5Q7SNUP-G"
      },
      "execution_count": 71,
      "outputs": []
    },
    {
      "cell_type": "markdown",
      "source": [
        "c) (0.75 pts) Entrena un modelo de regresión lineal (LinearRegression) y calcula el R² y el MSE."
      ],
      "metadata": {
        "id": "yGs8HngOUR7K"
      }
    },
    {
      "cell_type": "code",
      "source": [
        "lr = LinearRegression()\n",
        "lr.fit(X_train, y_train)\n",
        "y_pred_lr = lr.predict(X_test)\n",
        "\n",
        "print(\"Linear Regression - R²:\", round(r2_score(y_test, y_pred_lr), 3))\n",
        "# Error cuadrático medio, cuanto menor sea el valor mejor es\n",
        "print(\"Linear Regression - MSE:\", round(mean_squared_error(y_test, y_pred_lr), 2))\n"
      ],
      "metadata": {
        "id": "nkH-KfUrUSv0",
        "colab": {
          "base_uri": "https://localhost:8080/"
        },
        "outputId": "bc72bb29-3800-4577-cfbf-7206fca082f7"
      },
      "execution_count": 72,
      "outputs": [
        {
          "output_type": "stream",
          "name": "stdout",
          "text": [
            "Linear Regression - R²: 0.865\n",
            "Linear Regression - MSE: 6.11\n"
          ]
        }
      ]
    },
    {
      "cell_type": "markdown",
      "source": [
        "d) (0.75 pts) Entrena un RandomForestRegressor con los mismos datos y compara resultados. ¿Cuál tiene mejor rendimiento?"
      ],
      "metadata": {
        "id": "fozoFa3vUTah"
      }
    },
    {
      "cell_type": "code",
      "source": [
        "rf = RandomForestRegressor(random_state=123)\n",
        "rf.fit(X_train, y_train)\n",
        "y_pred_rf = rf.predict(X_test)\n",
        "\n",
        "print(\"Random Forest - R²:\", round(r2_score(y_test, y_pred_rf), 3))\n",
        "print(\"Random Forest - MSE:\", round(mean_squared_error(y_test, y_pred_rf), 2))\n",
        "\n",
        "\n",
        "\"\"\"\n",
        "Tiene un mejor rendimuento el Random Forest tiene un mejor rendimiento predictivo, ya que\n",
        "este puede hacer relaciones que no son lineales. Observando un mayor rndimiento predictivo en este.\n",
        "\"\"\"\n"
      ],
      "metadata": {
        "id": "0Me5YnFVUcPQ",
        "colab": {
          "base_uri": "https://localhost:8080/",
          "height": 88
        },
        "outputId": "de5d5b10-f703-4438-d8ca-7cf18f299e92"
      },
      "execution_count": 73,
      "outputs": [
        {
          "output_type": "stream",
          "name": "stdout",
          "text": [
            "Random Forest - R²: 0.939\n",
            "Random Forest - MSE: 2.75\n"
          ]
        },
        {
          "output_type": "execute_result",
          "data": {
            "text/plain": [
              "'\\nTiene un mejor rendimuento el Random Forest tiene un mejor rendimiento predictivo, ya que \\neste puede capturar relaciones que no son lineales.\\n'"
            ],
            "application/vnd.google.colaboratory.intrinsic+json": {
              "type": "string"
            }
          },
          "metadata": {},
          "execution_count": 73
        }
      ]
    },
    {
      "cell_type": "markdown",
      "source": [
        "## Ejercicio 4 — Clasificación sencilla (2 puntos)\n",
        "\n",
        "Crea una nueva variable binaria que indique si el IMC está dentro del rango saludable.\n",
        "\n",
        "a) (0.25 pts) Crea una nueva columna bmiHealthy donde el valor sea 1 si bmi está entre 18.5 y 24.9, y 0 en caso contrario."
      ],
      "metadata": {
        "id": "DIupTYHLUd4I"
      }
    },
    {
      "cell_type": "code",
      "source": [
        "lifeStyleData[\"bmiHealthy\"] = ((lifeStyleData[\"BMI\"] >= 18.5) & (lifeStyleData[\"BMI\"] <= 24.9)).astype(int)\n"
      ],
      "metadata": {
        "id": "c95n3xjoUhbk"
      },
      "execution_count": 90,
      "outputs": []
    },
    {
      "cell_type": "markdown",
      "source": [
        "b) (0.75 pts) Entrena un modelo de regresión logística (LogisticRegression) para predecir bmiHealthy usando algunas variables de estilo de vida (por ejemplo sleepHours, activityLevel, calories)."
      ],
      "metadata": {
        "id": "F65J5M78Uhus"
      }
    },
    {
      "cell_type": "code",
      "source": [
        "\n",
        "X = lifeStyleData[[\"Daily meals frequency\", \"Calories\", \"Physical exercise\"]]\n",
        "y = lifeStyleData[\"bmiHealthy\"]\n",
        "\n",
        "X_train, X_test, y_train, y_test = train_test_split(X, y, test_size=0.3, random_state=123)\n",
        "\n",
        "logreg = LogisticRegression(max_iter=1000)\n",
        "logreg.fit(X_train, y_train)\n",
        "y_pred = logreg.predict(X_test)\n"
      ],
      "metadata": {
        "id": "L0bX3dbvUjpC"
      },
      "execution_count": 97,
      "outputs": []
    },
    {
      "cell_type": "markdown",
      "source": [],
      "metadata": {
        "id": "qfr7Blahk3Gt"
      }
    },
    {
      "cell_type": "markdown",
      "source": [
        "c) (0.25 pts) Calcula la exactitud (accuracy) del modelo y muestra la matriz de confusión.\n"
      ],
      "metadata": {
        "id": "t2zVo1tRUj9o"
      }
    },
    {
      "cell_type": "code",
      "source": [
        "acc = accuracy_score(y_test, y_pred)\n",
        "cm = confusion_matrix(y_test, y_pred)\n",
        "\n",
        "print(\"Exactitud (accuracy):\", round(acc, 3))\n",
        "print(\"Matriz de confusión:\\n\", cm)\n"
      ],
      "metadata": {
        "id": "D3q0Hzu_UmT5",
        "colab": {
          "base_uri": "https://localhost:8080/"
        },
        "outputId": "613b73f5-017c-49fd-f552-561547ecf792"
      },
      "execution_count": 98,
      "outputs": [
        {
          "output_type": "stream",
          "name": "stdout",
          "text": [
            "Exactitud (accuracy): 0.57\n",
            "Matriz de confusión:\n",
            " [[2963  760]\n",
            " [1818  459]]\n"
          ]
        }
      ]
    },
    {
      "cell_type": "markdown",
      "source": [
        "d) (0.75 pts) Explica qué variable parece influir más según el modelo."
      ],
      "metadata": {
        "id": "H8MWudWBUngY"
      }
    },
    {
      "cell_type": "code",
      "source": [
        "coef = pd.Series(logreg.coef_[0], index=X.columns).sort_values(ascending=False)\n",
        "print(\"Coeficientes del modelo:\\n\", coef)\n",
        "\n",
        "\"\"\"\n",
        "Las variables con coeficientes positivos aumentan la probabilidad de estar en lo que consideramos saludable de IMC.\n",
        "Por ejemplo, el ejericio físico tiene una influencia positiva, mientras que un alto consumo de calories puede reducirlo.\n",
        "Auque de igual forma podemos ver que la frecuencia de comidas diarias afecta de mayor manera negativamente.\n",
        "\"\"\""
      ],
      "metadata": {
        "id": "qKdONBvPU1Pn",
        "colab": {
          "base_uri": "https://localhost:8080/",
          "height": 157
        },
        "outputId": "b3000f5b-1aa2-43a5-ac57-18903eaaa375"
      },
      "execution_count": 99,
      "outputs": [
        {
          "output_type": "stream",
          "name": "stdout",
          "text": [
            "Coeficientes del modelo:\n",
            " Physical exercise        0.051481\n",
            "Calories                -0.001188\n",
            "Daily meals frequency   -0.118937\n",
            "dtype: float64\n"
          ]
        },
        {
          "output_type": "execute_result",
          "data": {
            "text/plain": [
              "'\\nLas variables con coeficientes positivos aumentan la probabilidad de estar en lo que consideramos saludable de IMC.\\nPor ejemplo, Burns Calories tiene una influencia positiva, mientras que un alto consumo de calories puede reducirlo. \\nAuque de igual forma podemos ver que la frecuencia de comidas diarias afecta de mayor manera negativamente.\\n'"
            ],
            "application/vnd.google.colaboratory.intrinsic+json": {
              "type": "string"
            }
          },
          "metadata": {},
          "execution_count": 99
        }
      ]
    },
    {
      "cell_type": "markdown",
      "source": [
        "## Ejercicio 5 — Conclusión (1 punto)\n",
        "\n",
        "En un máximo de 300 palabras, resume:\n",
        "\n",
        "*   Qué hábitos parecen tener mayor relación con el estado de salud.\n",
        "\n",
        "*   Qué modelo fue más eficaz y por qué.\n",
        "\n",
        "*   Qué podrías mejorar si tuvieras más tiempo o datos.\n",
        "\n"
      ],
      "metadata": {
        "id": "dnuHNl1HU1sV"
      }
    },
    {
      "cell_type": "markdown",
      "source": [
        "El análisis del dataset  permitió identificar los principales hábitos que influyen en la salud.\n",
        "\n",
        "En el modelado predictivo, en la regresión lineal cdio resultados bastante buenos en cuanto a correlación entre variables, aunque el Random Forest logró un R² más alto y un menor MSE, viendo una mejor capacidad para obtener relaciones no lineales entre las variables.\n",
        "\n",
        "En la clasificación con el modelo de regresión logistica mostro precisiones significativas entre las variables de estilo de vida y las medidas de salud. Las calorias y la actividad física (pyshical excercise) mostraron una relación con el bmiHealthy. Donde parece ser que las personas que comen y consumen más calorias esta asociado con un bajo IBMHealthy (la relación con el consumo de calorias es bajo), pero por otra parte las personas que hacen ejercicio físico se muestra que tiene una buena relación.\n",
        "\n",
        "Por lo que los resultados indican que hacer ejercicio físico y una buena alimentación tiene un impacto  sobre la salud.\n",
        "\n",
        "Donde el modelo de Regresión Logistica fue el que permitio visualizar de mejor manera que variables impactan y el cómo impctan (negativa o positivamente).\n",
        "\n",
        "Con más tiempo o una mayor cantidad de datos, se podrían incluir variables como estrés, dieta para mejorar la precisión de los modelos y obtener una visión más completa de la salud de las personas."
      ],
      "metadata": {
        "id": "7ETS3KG-lAcu"
      }
    }
  ]
}